{
 "cells": [
  {
   "cell_type": "markdown",
   "metadata": {},
   "source": [
    "![Numpy Logo](notebook_diagrams/numpy.jpeg)\n",
    "\n",
    "# Tutorial for NumPy\n",
    "NumPy, which is short for \"Numbers Python\", is a library for efficiently processing large volumes of numerical data in Python.  Like pandas, it is extremely important for machine learning, particularly for computer vision.  \n",
    "\n",
    "The core data structure in NumPy is the **nd-array** (n-dimensional array).  This data structure uses [strided memory](https://en.wikipedia.org/wiki/Stride_of_an_array) for storing elements and computation, which means that all elements of the same nd-array must be of the same Python type.\n",
    "\n",
    "In this tutorial, we will show you the power of NumPy, and in particular, how it can be used for computer vision."
   ]
  },
  {
   "cell_type": "markdown",
   "metadata": {},
   "source": [
    "## Import Block\n",
    "Typically you will see `import numpy as np` written, but this is just convention.  You can write this import statement in whatever way works best for you."
   ]
  },
  {
   "cell_type": "code",
   "execution_count": 1,
   "metadata": {},
   "outputs": [],
   "source": [
    "# Import NumPy\n",
    "import numpy as np \n",
    "\n",
    "# We will use os to find specific paths in our directories\n",
    "import os\n",
    "\n",
    "# Use for timing computation\n",
    "import time\n",
    "\n",
    "# Use for plotting\n",
    "import matplotlib.pyplot as plt"
   ]
  },
  {
   "cell_type": "markdown",
   "metadata": {},
   "source": [
    "## Intro to nd-arrays\n",
    "The **nd-array**, or n-dimensional array, data structure is the core element of the numpy library.  In one dimension, they are very similar to the Python `list` data structure.  In two dimensions, you can think of these as nd-arrays as being similar to a `list` of `lists`.\n",
    "\n",
    "The main difference between a native Python `list` and a numpy `nd-array` is that an `nd-array` is much more computationally efficient.  Let's see this below."
   ]
  },
  {
   "cell_type": "markdown",
   "metadata": {},
   "source": [
    "### Why Numpy Arrays?  Comparing Times to Compute"
   ]
  },
  {
   "cell_type": "code",
   "execution_count": 2,
   "metadata": {},
   "outputs": [
    {
     "data": {
      "image/png": "[encoded data removed]",
      "text/plain": [
       "<Figure size 432x288 with 1 Axes>"
      ]
     },
     "metadata": {
      "needs_background": "light"
     },
     "output_type": "display_data"
    },
    {
     "name": "stdout",
     "output_type": "stream",
     "text": [
      "List Times \n",
      " [1.9073486328125e-06, 0.08954048156738281, 0.1713273525238037, 0.2467031478881836, 0.3452184200286865, 0.3897683620452881, 0.4922502040863037, 0.5511496067047119, 0.6287484169006348, 0.7231781482696533]\n",
      "Numpy Array Times \n",
      " [4.315376281738281e-05, 0.0007331371307373047, 0.0015549659729003906, 0.0023741722106933594, 0.003509998321533203, 0.0043926239013671875, 0.005019426345825195, 0.00547480583190918, 0.006953001022338867, 0.008445262908935547]\n"
     ]
    }
   ],
   "source": [
    "# Store time to compute for Python list and numpy nd-array\n",
    "list_times = []\n",
    "nd_array_times = []\n",
    "num_points = []\n",
    "\n",
    "for i in range(10,10000010,1000000):\n",
    "    \n",
    "    num_points.append(i)\n",
    "    \n",
    "    python_list = [j for j in range(i)]\n",
    "    t_list_start = time.time()\n",
    "    total = 0\n",
    "    for elt in python_list:\n",
    "        total += elt\n",
    "    t_list_end = time.time()\n",
    "    list_times.append(t_list_end - t_list_start)\n",
    "        \n",
    "    np_array = np.arange(i)\n",
    "    t_array_start = time.time()\n",
    "    total = np.sum(np_array)\n",
    "    t_array_end = time.time()\n",
    "    nd_array_times.append(t_array_end - t_array_start)\n",
    "    \n",
    "# Plot both\n",
    "plt.plot(num_points, list_times, color=\"r\", label=\"Python List\")\n",
    "plt.plot(num_points, nd_array_times, color=\"b\", label=\"Numpy Array\")\n",
    "plt.legend()\n",
    "plt.xlabel(\"Number of Points\")\n",
    "plt.ylabel(\"Time to Compute\")\n",
    "plt.title(\"Computation Time vs. Number of Points with Lists and Numpy Arrays\")\n",
    "plt.show()\n",
    "\n",
    "# Show the times\n",
    "print(\"List Times \\n {}\".format(list_times))\n",
    "print(\"Numpy Array Times \\n {}\".format(nd_array_times))"
   ]
  },
  {
   "cell_type": "markdown",
   "metadata": {},
   "source": [
    "As we can see, numpy is significantly faster for **vector** and **matrix** operations, such as adding an array of numbers.  We will be using numpy a lot this week and next week to greatly speed up our code."
   ]
  },
  {
   "cell_type": "markdown",
   "metadata": {},
   "source": [
    "### Basic Operations with **nd-arrays**\n",
    "Let's start working with these data structures!\n",
    "\n",
    "#### Creating Numpy Arrays"
   ]
  },
  {
   "cell_type": "code",
   "execution_count": 3,
   "metadata": {},
   "outputs": [
    {
     "name": "stdout",
     "output_type": "stream",
     "text": [
      "A is: \n",
      " [1 2 3 4]\n",
      "C is: \n",
      " [1 2 3 4]\n",
      "D is: \n",
      " [0.01, -5.7, 10.2, 7.6e-05]\n"
     ]
    }
   ],
   "source": [
    "# Can create numpy arrays using the following function\n",
    "A = np.array([1, 2, 3, 4])\n",
    "print(\"A is: \\n {}\".format(A))\n",
    "\n",
    "# Can also create numpy arrays from lists!\n",
    "B = [1, 2, 3, 4]  # List in Python\n",
    "C = np.array(B)\n",
    "print(\"C is: \\n {}\".format(C))\n",
    "\n",
    "# Elements do not have to be integers\n",
    "D = [0.01, -5.7, 10.2, 0.000076]\n",
    "print(\"D is: \\n {}\".format(D))\n"
   ]
  },
  {
   "cell_type": "markdown",
   "metadata": {},
   "source": [
    "#### Dimensionality, Row, and Column Vectors\n",
    "We can think of nd-arrays as vectors (in one dimension), matrices (in two dimensions), or tensors (any dimension).  Numpy has many different ways in which we can get information on or change the dimensions of these nd-arrays.\n"
   ]
  },
  {
   "cell_type": "code",
   "execution_count": 4,
   "metadata": {},
   "outputs": [
    {
     "name": "stdout",
     "output_type": "stream",
     "text": [
      "E is: \n",
      " [[1 2 3 4]]\n",
      "Shape of E is: (1, 4)\n",
      "F is: \n",
      " [[1]\n",
      " [2]\n",
      " [3]\n",
      " [4]]\n",
      "Shape of F is: (4, 1)\n",
      "G is: \n",
      " [[1]\n",
      " [2]\n",
      " [3]\n",
      " [4]]\n",
      "Shape of G is: (4, 1)\n",
      "F and G have the same shape!\n"
     ]
    }
   ],
   "source": [
    "# Create a \"row vector\":\n",
    "E = np.array([[1, 2, 3, 4]])\n",
    "print(\"E is: \\n {}\".format(E))\n",
    "\n",
    "# We can get the shape of a nd-array through the \"shape\" attribute\n",
    "print(\"Shape of E is: {}\".format(E.shape))\n",
    "\n",
    "# Now let's create a \"column vector\"\n",
    "F = np.array([[1], [2], [3], [4]])\n",
    "print(\"F is: \\n {}\".format(F))\n",
    "\n",
    "# We can get the shape of a nd-array through the \"shape\" attribute\n",
    "print(\"Shape of F is: {}\".format(F.shape))\n",
    "\n",
    "# We can also change a row vector to a column vector through taking the transpose!\n",
    "G = np.array(E).T  # Take the transpose with \".T\"\n",
    "print(\"G is: \\n {}\".format(G))\n",
    "\n",
    "# We can get the shape of a nd-array through the \"shape\" attribute\n",
    "print(\"Shape of G is: {}\".format(G.shape))\n",
    "\n",
    "print(\"F and G have the same shape!\")"
   ]
  },
  {
   "cell_type": "markdown",
   "metadata": {},
   "source": [
    "#### Matrices in Numpy\n",
    "Much of computer vision deals with operations on matrices.  Numpy has a great amount of functionality built in for handling computations and transformations on matrices.  Let's see this below."
   ]
  },
  {
   "cell_type": "code",
   "execution_count": 5,
   "metadata": {},
   "outputs": [
    {
     "name": "stdout",
     "output_type": "stream",
     "text": [
      "H is: \n",
      " \n",
      " [[1 2 3]\n",
      " [4 5 6]\n",
      " [7 8 9]]\n",
      "\n",
      " Shape of H is: (3, 3)\n",
      "Reshaped H into 1 x 9 column vector: \n",
      " [[1 2 3 4 5 6 7 8 9]] \n",
      "\n",
      "Reshaped H into 9 x 1 column vector: \n",
      " [[1]\n",
      " [2]\n",
      " [3]\n",
      " [4]\n",
      " [5]\n",
      " [6]\n",
      " [7]\n",
      " [8]\n",
      " [9]] \n",
      "\n"
     ]
    }
   ],
   "source": [
    "# Create the array\n",
    "H = np.array([[1, 2, 3], [4, 5, 6], [7, 8, 9]])\n",
    "\n",
    "print(\"H is: \\n \\n {}\".format(H))\n",
    "\n",
    "# We can get the shape of a nd-array through the \"shape\" attribute\n",
    "print(\"\\n Shape of H is: {}\".format(H.shape))\n",
    "\n",
    "# We can also use the reshape function to change the dimensions of a nd-array\n",
    "print(\"Reshaped H into 1 x 9 column vector: \\n %s \\n\" % H.reshape((1, 9)))\n",
    "print(\"Reshaped H into 9 x 1 column vector: \\n %s \\n\" % H.reshape((9, 1)))"
   ]
  },
  {
   "cell_type": "markdown",
   "metadata": {},
   "source": [
    "#### Some Common Vector Operations in Python\n",
    "We can now explore some common types of vector data in Python."
   ]
  },
  {
   "cell_type": "markdown",
   "metadata": {},
   "source": [
    "###### 1. np.arange(start, stop, step rate)\n",
    "This function creates an array over a linear interval from start to stop with a given step size given by step rate.  This function can be used to generate equally-spaced arrays, which are applicable for domains like plotting."
   ]
  },
  {
   "cell_type": "code",
   "execution_count": 6,
   "metadata": {},
   "outputs": [
    {
     "name": "stdout",
     "output_type": "stream",
     "text": [
      "I is: \n",
      " \n",
      " [ 0 10 20 30 40 50 60 70 80 90]\n",
      "\n",
      " Shape of I is: (10,)\n"
     ]
    }
   ],
   "source": [
    "# Create the array with np.arange\n",
    "I = np.arange(0,100,10)\n",
    "\n",
    "print(\"I is: \\n \\n {}\".format(I))\n",
    "\n",
    "# We can get the shape of a nd-array through the \"shape\" attribute\n",
    "print(\"\\n Shape of I is: {}\".format(I.shape))\n"
   ]
  },
  {
   "cell_type": "markdown",
   "metadata": {},
   "source": [
    "###### 2. np.sum(Array, axis = ?)\n",
    "This function computes the sum of a given array over the axis given by the (optional) axis argument.  If no argument is provided for axis, this function sums over all the elements in the array.  A diagram for axes is provided below:\n",
    "\n",
    "![Axis Diagram](notebook_diagrams/axes.png)\n",
    "\n",
    "As we can see from the diagram above, summing over the rows corresponds to \"axis = 1\", while summing over the columns corresponds to \"axis = 0\".  This is consistent with how numpy computes shape - the 0 index of array.shape corresponds to the length of/over the columns, and the 1 index of array.shape corresponds to the length of/over the rows.  We will investigate how axis affects our output below."
   ]
  },
  {
   "cell_type": "code",
   "execution_count": 7,
   "metadata": {},
   "outputs": [
    {
     "name": "stdout",
     "output_type": "stream",
     "text": [
      "J is: [[1 2 3]\n",
      " [4 5 6]\n",
      " [7 8 9]]\n",
      "Shape of J is: (3, 3)\n",
      "K is: 45\n",
      "\n",
      " Shape of K is: () \n",
      "\n",
      "L is: [12 15 18]\n",
      "Shape of L is: (3,) \n",
      "\n",
      "M is: [ 6 15 24]\n",
      "Shape of M is: (3,)\n"
     ]
    }
   ],
   "source": [
    "# Create the 2D array\n",
    "J = np.array([[1, 2, 3], [4, 5, 6], [7, 8, 9]])\n",
    "\n",
    "print(\"J is: {}\".format(J))\n",
    "\n",
    "# We can get the shape of a nd-array through the \"shape\" attribute\n",
    "print(\"Shape of J is: {}\".format(J.shape))\n",
    "\n",
    "# Now let's compute sums over these arrays!\n",
    "K = np.sum(J, axis=None)  # No axis\n",
    "print(\"K is: {}\".format(K))\n",
    "print(\"\\n Shape of K is: {} \\n\".format(K.shape))\n",
    "\n",
    "L = np.sum(J, axis=0)  # Axis = 0\n",
    "print(\"L is: {}\".format(L))\n",
    "print(\"Shape of L is: {} \\n\".format(L.shape))\n",
    "\n",
    "M = np.sum(J, axis=1)  # Axis = 1\n",
    "print(\"M is: {}\".format(M))\n",
    "print(\"Shape of M is: {}\".format(M.shape))"
   ]
  },
  {
   "cell_type": "markdown",
   "metadata": {},
   "source": [
    "##### 3. Elementary Math Operations in numpy: Addition, Subtraction, Multiplication, Division, Matrix Multiplication\n",
    "Elementary operations in numpy are especially powerful because of a procedure numpy uses known as [broadcasting](https://docs.scipy.org/doc/numpy/user/basics.broadcasting.html), which is describes a set of rules numpy uses to perform computations between arrays of different sizes.  We will see this below when introducing some of these operations.\n",
    "\n",
    "One really neat thing about broadcasting is that we can add, subtract, multiply, and divide matrices by scalars!"
   ]
  },
  {
   "cell_type": "code",
   "execution_count": 8,
   "metadata": {},
   "outputs": [
    {
     "name": "stdout",
     "output_type": "stream",
     "text": [
      "N is: \n",
      " [[1 2]\n",
      " [3 4]] \n",
      " \n",
      " O is: \n",
      " [[5 6]\n",
      " [7 8]] \n",
      "\n",
      "Addition gives: \n",
      " [[ 6  8]\n",
      " [10 12]] \n",
      "\n",
      "Subtraction gives: \n",
      " [[ 6  8]\n",
      " [10 12]] \n",
      "\n",
      "Element-wise Multiplication gives: \n",
      " [[ 5 12]\n",
      " [21 32]] \n",
      "\n",
      "Element-wise Division gives: \n",
      " [[0.2        0.33333333]\n",
      " [0.42857143 0.5       ]] \n",
      "\n",
      "N is \n",
      " [[1 2]\n",
      " [3 4]] \n",
      "\n",
      "AS is \n",
      " [[-4 -3]\n",
      " [-2 -1]] \n",
      "\n",
      "AT is \n",
      " [[-0.2 -0.4]\n",
      " [-0.6 -0.8]] \n",
      "\n"
     ]
    }
   ],
   "source": [
    "# Create two arrays\n",
    "N = np.array([[1, 2], [3, 4]])\n",
    "O = np.array([[5, 6], [7, 8]])\n",
    "print(\"N is: \\n {} \\n \\n O is: \\n {} \\n\".format(N,O))\n",
    "\n",
    "# Perform addition - np.add.  Note that this operation can be computed along an axis as well!\n",
    "P = np.add(N, O)\n",
    "print(\"Addition gives: \\n {} \\n\".format(P))\n",
    "\n",
    "# Perform subtraction - np.subtraction.  Note that this operation can be computed along an axis as well!\n",
    "Q = np.subtract(N, O)\n",
    "print(\"Subtraction gives: \\n {} \\n\".format(Q))\n",
    "\n",
    "# Perform element-wise multiplication - np.multiply.\n",
    "R = np.multiply(N, O)\n",
    "print(\"Element-wise Multiplication gives: \\n {} \\n\".format(R))\n",
    "\n",
    "# Perform element-wise division - np.divison.\n",
    "S = np.divide(N, O)\n",
    "print(\"Element-wise Division gives: \\n {} \\n\".format(S))\n",
    "\n",
    "# Now we'll broadcast - Add a matrix with a scalar!\n",
    "AS = np.add(N, -5)\n",
    "AT = np.divide(N, -5)\n",
    "print(\"N is \\n %s \\n\" % (N))\n",
    "print(\"AS is \\n %s \\n\" % (AS))\n",
    "print(\"AT is \\n %s \\n\" % (AT))"
   ]
  },
  {
   "cell_type": "markdown",
   "metadata": {},
   "source": [
    "##### 4. Generating Arrays of Arbitrary Size with Numpy\n",
    "Another great thing about numpy is that it has many functions for creating arrays of any size."
   ]
  },
  {
   "cell_type": "code",
   "execution_count": 9,
   "metadata": {},
   "outputs": [
    {
     "name": "stdout",
     "output_type": "stream",
     "text": [
      "T is: \n",
      " [[[0. 0.]\n",
      "  [0. 0.]]\n",
      "\n",
      " [[0. 0.]\n",
      "  [0. 0.]]] \n",
      "\n",
      "U is: \n",
      " [[1. 1. 1. 1.]\n",
      " [1. 1. 1. 1.]\n",
      " [1. 1. 1. 1.]\n",
      " [1. 1. 1. 1.]\n",
      " [1. 1. 1. 1.]\n",
      " [1. 1. 1. 1.]\n",
      " [1. 1. 1. 1.]]\n"
     ]
    }
   ],
   "source": [
    "# Create a matrix of all zeros\n",
    "T = np.zeros((2, 2, 2))\n",
    "print(\"T is: \\n {} \\n\".format(T))\n",
    "\n",
    "# Create a matrix of all ones\n",
    "U = np.ones((7, 4))\n",
    "print(\"U is: \\n {}\".format(U))"
   ]
  },
  {
   "cell_type": "markdown",
   "metadata": {},
   "source": [
    "##### 5. Generating Data From Probabilistic Distributions\n",
    "Numpy also has powerful functionality built in for sampling random variables, vectors, and matrices of any size from different probability distributions."
   ]
  },
  {
   "cell_type": "code",
   "execution_count": 10,
   "metadata": {},
   "outputs": [
    {
     "name": "stdout",
     "output_type": "stream",
     "text": [
      "V is: \n",
      " [[0.03857766 0.26164093 0.75796476 0.8643626  0.90277747]\n",
      " [0.44408743 0.67944714 0.94516989 0.70807587 0.74298393]\n",
      " [0.20184196 0.25892449 0.20774916 0.27289    0.82662277]\n",
      " [0.24962328 0.81805161 0.88811365 0.408624   0.05402518]\n",
      " [0.8841062  0.11023505 0.68634103 0.94158232 0.08381174]] \n",
      "\n",
      "W is: \n",
      " 0.14254116054257326 \n",
      "\n"
     ]
    }
   ],
   "source": [
    "# 5a. np.random.random(size=None): Samples uniformly from [0,1).  \n",
    "#Can sample a single number, or a vector/matrix/tensor according to the size argument.\n",
    "V = np.random.random(size=(5,5))\n",
    "print(\"V is: \\n {} \\n\".format(V))\n",
    "\n",
    "W = np.random.random(size=None)\n",
    "print(\"W is: \\n {} \\n\".format(W))"
   ]
  },
  {
   "cell_type": "code",
   "execution_count": 11,
   "metadata": {},
   "outputs": [
    {
     "name": "stdout",
     "output_type": "stream",
     "text": [
      "Y is: \n",
      " [[13 13 21]\n",
      " [21  7 21]\n",
      " [21  7 21]] \n",
      "\n"
     ]
    },
    {
     "data": {
      "image/png": "[encoded data removed]",
      "text/plain": [
       "<Figure size 432x288 with 1 Axes>"
      ]
     },
     "metadata": {
      "needs_background": "light"
     },
     "output_type": "display_data"
    }
   ],
   "source": [
    "# 5b. np.random.choice(array): Samples uniformly from elements in the array argument.  \n",
    "#Can sample a single number, or a vector/matrix/tensor according to the size argument.\n",
    "\n",
    "X = np.array([7, 21, 21, 13])\n",
    "\n",
    "Y = np.random.choice(X, size=(3,3))\n",
    "print(\"Y is: \\n {} \\n\".format(Y))\n",
    "\n",
    "Z = np.random.choice(X, size=(1000))\n",
    "plt.hist(Z)\n",
    "plt.title(\"Histogram of Z\")\n",
    "plt.xlabel(\"Value\")\n",
    "plt.ylabel(\"Count of Sample\")\n",
    "plt.show()"
   ]
  },
  {
   "cell_type": "code",
   "execution_count": 12,
   "metadata": {},
   "outputs": [
    {
     "data": {
      "image/png": "[encoded data removed]",
      "text/plain": [
       "<Figure size 432x288 with 1 Axes>"
      ]
     },
     "metadata": {
      "needs_background": "light"
     },
     "output_type": "display_data"
    },
    {
     "data": {
      "image/png": "[encoded data removed]",
      "text/plain": [
       "<Figure size 432x288 with 1 Axes>"
      ]
     },
     "metadata": {
      "needs_background": "light"
     },
     "output_type": "display_data"
    }
   ],
   "source": [
    "# 5c. np.random.uniform(low=0.0, high=1.0, size=None): Samples uniformly from the range [low, high).\n",
    "#Can sample a single number, or a vector/matrix/tensor according to the size argument.\n",
    "\n",
    "AA = np.random.uniform(low=0, high=25, size=(1000))\n",
    "plt.hist(AA, bins=10)\n",
    "plt.xlim(0, 100)\n",
    "plt.title(\"Histogram of AA\")\n",
    "plt.xlabel(\"Value\")\n",
    "plt.ylabel(\"Count of Sample\")\n",
    "plt.show()\n",
    "\n",
    "AB = np.random.uniform(low=0, high=100, size=(1000))\n",
    "plt.hist(AB, bins=10)\n",
    "plt.xlim(0, 100)\n",
    "plt.title(\"Histogram of AB\")\n",
    "plt.xlabel(\"Value\")\n",
    "plt.ylabel(\"Count of Sample\")\n",
    "plt.show()\n"
   ]
  },
  {
   "cell_type": "code",
   "execution_count": 13,
   "metadata": {},
   "outputs": [
    {
     "data": {
      "image/png": "[encoded data removed]",
      "text/plain": [
       "<Figure size 432x288 with 1 Axes>"
      ]
     },
     "metadata": {
      "needs_background": "light"
     },
     "output_type": "display_data"
    },
    {
     "data": {
      "image/png": "[encoded data removed]",
      "text/plain": [
       "<Figure size 432x288 with 1 Axes>"
      ]
     },
     "metadata": {
      "needs_background": "light"
     },
     "output_type": "display_data"
    }
   ],
   "source": [
    "# 5d. numpy.random.normal(loc=0.0, scale=1.0, size=None): Samples from the Gaussian distribution, with\n",
    "# loc = mean and scale = standard deviation.  Can sample a single number, or a vector/matrix/tensor \n",
    "# according to the size argument.\n",
    "\n",
    "AC = np.random.normal(loc=0, scale=2, size=(1000))\n",
    "plt.hist(AC, bins=100)\n",
    "plt.xlim(-15, 30)\n",
    "plt.title(\"Histogram of AC\")\n",
    "plt.xlabel(\"Value\")\n",
    "plt.ylabel(\"Count of Sample\")\n",
    "plt.show()\n",
    "\n",
    "AD = np.random.normal(loc=10, scale=10, size=(1000))\n",
    "plt.hist(AD, bins=100)\n",
    "plt.xlim(-15, 30)\n",
    "plt.title(\"Histogram of AD\")\n",
    "plt.xlabel(\"Value\")\n",
    "plt.ylabel(\"Count of Sample\")\n",
    "plt.show()"
   ]
  },
  {
   "cell_type": "markdown",
   "metadata": {},
   "source": [
    "#### Statistical Functions in Numpy\n",
    "In addition to generating probabilistic arrays using numpy, we can use statistical functions to summarize, predict, and make inferences.  These functions are explored below."
   ]
  },
  {
   "cell_type": "code",
   "execution_count": 14,
   "metadata": {},
   "outputs": [
    {
     "name": "stdout",
     "output_type": "stream",
     "text": [
      "Parameters for normal distribution: \n",
      "\n",
      "Mean: 2, Variance: 9, Standard deviation: 3\n"
     ]
    },
    {
     "data": {
      "image/png": "[encoded data removed]",
      "text/plain": [
       "<Figure size 432x288 with 1 Axes>"
      ]
     },
     "metadata": {
      "needs_background": "light"
     },
     "output_type": "display_data"
    },
    {
     "name": "stdout",
     "output_type": "stream",
     "text": [
      "Mean of sampled points is: 2.0121346958218664, \n",
      " Variance is: 8.991820031895939, \n",
      " Standard deviation is: 2.9986363620645866 \n",
      "\n"
     ]
    }
   ],
   "source": [
    "# Generate distribution randomly\n",
    "AH = np.random.normal(loc=2, scale=3, size=(10000)) \n",
    "print(\"Parameters for normal distribution: \\n\")\n",
    "print(\"Mean: 2, Variance: 9, Standard deviation: 3\")\n",
    "\n",
    "# Plot histogram\n",
    "plt.hist(AH, bins=100)\n",
    "plt.xlim(xmin=-10.0, xmax = 12.0)\n",
    "plt.title(\"Histogram of AH\")\n",
    "plt.xlabel(\"Value\")\n",
    "plt.ylabel(\"Count of Sample\")\n",
    "plt.show()\n",
    "\n",
    "# Now find statistics\n",
    "mean = np.mean(AH)\n",
    "var = np.var(AH)\n",
    "std = np.std(AH)\n",
    "\n",
    "print(\"Mean of sampled points is: %s, \\n Variance is: %s, \\n Standard deviation is: %s \\n\" % (mean, var, std))"
   ]
  },
  {
   "cell_type": "markdown",
   "metadata": {},
   "source": [
    "There are many other numpy functions that you can use for probability distributions as well!  Visit numpy's website [HERE](https://numpy.org/) to see their documentation."
   ]
  },
  {
   "cell_type": "markdown",
   "metadata": {},
   "source": [
    "### Slicing in numpy\n",
    "Array slicing, or simply slicing for short, is another nice feature of numpy.  Numpy array slicing is supported for both single and multi-dimensional arrays, and also supports conditional array indexing (for example, you can return the subset of an array of elements that are greater than zero.  We can investigate slicing, as well as other functions for conditional element selection, below."
   ]
  },
  {
   "cell_type": "code",
   "execution_count": 15,
   "metadata": {},
   "outputs": [
    {
     "data": {
      "image/png": "[encoded data removed]",
      "text/plain": [
       "<Figure size 432x288 with 1 Axes>"
      ]
     },
     "metadata": {
      "needs_background": "light"
     },
     "output_type": "display_data"
    },
    {
     "name": "stdout",
     "output_type": "stream",
     "text": [
      "Number of samples equal to 2: 463, \n",
      "Number of samples equal to 5: 537\n"
     ]
    },
    {
     "data": {
      "image/png": "[encoded data removed]",
      "text/plain": [
       "<Figure size 432x288 with 1 Axes>"
      ]
     },
     "metadata": {
      "needs_background": "light"
     },
     "output_type": "display_data"
    },
    {
     "name": "stdout",
     "output_type": "stream",
     "text": [
      "Number of 5s in AF array: 537\n"
     ]
    },
    {
     "data": {
      "image/png": "[encoded data removed]",
      "text/plain": [
       "<Figure size 432x288 with 1 Axes>"
      ]
     },
     "metadata": {
      "needs_background": "light"
     },
     "output_type": "display_data"
    },
    {
     "name": "stdout",
     "output_type": "stream",
     "text": [
      "Number of 5s in AG array: 537 \n",
      "\n",
      "Notice how AF and AG give us the same results!\n"
     ]
    }
   ],
   "source": [
    "# First, create bi-modal array of length 1000\n",
    "AE = np.random.choice([2, 5], size=1000)\n",
    "plt.hist(AE, bins=100)\n",
    "plt.xlim(xmin=0.0, xmax = 7.0)\n",
    "plt.title(\"Histogram of AE before Conditional Indexing\")\n",
    "plt.xlabel(\"Value\")\n",
    "plt.ylabel(\"Count of Sample\")\n",
    "plt.show()\n",
    "\n",
    "# Now we can figure out the indices and counts of different values in the array above\n",
    "where_2s = np.where(AE==2)[0]\n",
    "where_5s = np.where(AE==5)[0]\n",
    "\n",
    "# Print number of 2s and 5s\n",
    "print(\"Number of samples equal to 2: %s, \\n\" \\\n",
    "       \"Number of samples equal to 5: %s\" % (len(where_2s), len(where_5s)))\n",
    "\n",
    "# Now we only want to keep 5s!\n",
    "AF = AE[where_5s]  # We can index into a numpy array using a list as input!\n",
    "plt.hist(AF, bins=100)\n",
    "plt.xlim(xmin=0.0, xmax = 7.0)\n",
    "plt.title(\"Histogram of AF After Conditional Indexing\")\n",
    "plt.xlabel(\"Value\")\n",
    "plt.ylabel(\"Count of Sample\")\n",
    "plt.show()\n",
    "\n",
    "# Print number of 5s\n",
    "print(\"Number of 5s in AF array: %s\" % (len(AF)))\n",
    "\n",
    "# We can get 5s another way!\n",
    "AG = AE[AE==5]\n",
    "plt.hist(AG, bins=100)\n",
    "plt.xlim(xmin=0.0, xmax = 7.0)\n",
    "plt.title(\"Histogram of AG After Conditional Indexing\")\n",
    "plt.xlabel(\"Value\")\n",
    "plt.ylabel(\"Count of Sample\")\n",
    "plt.show()\n",
    "\n",
    "# Print number of 5s\n",
    "print(\"Number of 5s in AG array: %s \\n\" % (len(AF)))\n",
    "print(\"Notice how AF and AG give us the same results!\")\n",
    "\n"
   ]
  },
  {
   "cell_type": "markdown",
   "metadata": {},
   "source": [
    "## Linear Algebra in Numpy - PCA\n",
    "As we've seen above, numpy is very good at processing matrices efficiently and without the need for a lot of computation.  Because of this, it is a really good platform to use linear algebra with!  Let's write code for our own out-of-the-box PCA using numpy!\n",
    "\n",
    "Here, we will only find the **principal components** (eigenvectors of the covariance matrix of the data), but we can easily generalize this framework to higher dimensions as well.\n",
    "\n",
    "The numpy functions we use in this example:\n",
    "\n",
    "1. `np.random.normal`: Function for generating samples from a normal distribution.\n",
    "\n",
    "\n",
    "2. `np.vstack`: Function for stacking two vectors/matrices vertically (along the 0th axis).\n",
    "\n",
    "\n",
    "3. `np.random.randint`: Function for sampling integers randomly.\n",
    "\n",
    "\n",
    "4. `@`: Shorthand for matrix multiplication between commutative matrices.\n",
    "\n",
    "\n",
    "5. `np.sin` and `np.cos`: Functions for computing the element-wise sine and cosine of elements in an array.  Functions like these are really powerful because numpy performs computations over each element by taking in the entire array.\n",
    "\n",
    "\n",
    "6. `np.min` and `np.max`: Functions for computing the min and max of an array.\n",
    "\n",
    "\n",
    "7. `np.mean`: Computes the statistical mean of an array or matrix.\n",
    "\n",
    "\n",
    "8. `np.cov`: Computes the statistical covariance matrix of an array or matrix.\n",
    "\n",
    "\n",
    "9. `np.linalg.eig`: Computes the eigenvector/eigenvalue pairs of a matrix."
   ]
  },
  {
   "cell_type": "code",
   "execution_count": 16,
   "metadata": {},
   "outputs": [
    {
     "name": "stdout",
     "output_type": "stream",
     "text": [
      "Example 1: \n",
      "\n",
      "Covariance Matrix is given by: \n",
      " [[ 1.36406831 -2.96359007]\n",
      " [-2.96359007 23.87387943]] \n",
      "\n",
      "Eigenvalues of covariance matrix: \n",
      " [ 0.98042734 24.2575204 ] \n",
      "\n",
      "Eigenvectors of covariance matrix: \n",
      " [[-0.99172502  0.12838022]\n",
      " [-0.12838022 -0.99172502]] \n",
      "\n"
     ]
    },
    {
     "data": {
      "image/png": "[encoded data removed]",
      "text/plain": [
       "<Figure size 432x288 with 1 Axes>"
      ]
     },
     "metadata": {
      "needs_background": "light"
     },
     "output_type": "display_data"
    },
    {
     "name": "stdout",
     "output_type": "stream",
     "text": [
      "Example 2: \n",
      "\n",
      "Covariance Matrix is given by: \n",
      " [[24.56895448  3.16841232]\n",
      " [ 3.16841232  1.44592136]] \n",
      "\n",
      "Eigenvalues of covariance matrix: \n",
      " [24.9952443   1.01963154] \n",
      "\n",
      "Eigenvectors of covariance matrix: \n",
      " [[ 0.99107006 -0.1333422 ]\n",
      " [ 0.1333422   0.99107006]] \n",
      "\n"
     ]
    },
    {
     "data": {
      "image/png": "[encoded data removed]",
      "text/plain": [
       "<Figure size 432x288 with 1 Axes>"
      ]
     },
     "metadata": {
      "needs_background": "light"
     },
     "output_type": "display_data"
    }
   ],
   "source": [
    "# First, we need to generate data - n corresponds to number of points\n",
    "def generate_data(n=10000):\n",
    "    \n",
    "    # Generate the un-rotated data\n",
    "    x1 = np.random.normal(loc=-2, scale=5, size=n)\n",
    "    x2 = np.random.normal(loc=2, scale=1, size=n)\n",
    "    stacked_data = np.vstack((x1, x2))\n",
    "\n",
    "    # Generate a random angle for rotation\n",
    "    theta = np.random.randint(low=0, high=360)\n",
    "    \n",
    "    # Make rotation matrix\n",
    "    c, s = np.cos(theta), np.sin(theta)\n",
    "    R = np.array(((c,-s), (s, c)))\n",
    "\n",
    "    # Rotate data\n",
    "    return R @ stacked_data\n",
    "\n",
    "def plot(D, vector=None):\n",
    "    # Use for setting limits on plot window\n",
    "    x1min, x1max = np.min(D[0]), np.max(D[0])\n",
    "    x2min, x2max = np.min(D[1]), np.max(D[1])\n",
    "    abs_lim = max(abs(x1min), abs(x1max), abs(x2min), abs(x2max))\n",
    "    \n",
    "    # Plot data\n",
    "    plt.scatter(D[0], D[1])\n",
    "    plt.xlim(-abs_lim*1.1, abs_lim*1.1)\n",
    "    plt.ylim(-abs_lim*1.1, abs_lim*1.1)\n",
    "    \n",
    "    # Plot principal components of covariance matrix\n",
    "    if vector is not None:\n",
    "        origin = np.mean(D[0]), np.mean(D[1]) # origin point\n",
    "        plt.quiver(*origin, vector[0,:], vector[1,:], color=['r','b'], scale=5)\n",
    "        \n",
    "    # Add axis captions and title\n",
    "    plt.xlabel(\"x1 Dimension\")\n",
    "    plt.xlabel(\"x2 Dimension\")\n",
    "    plt.title(\"Data with Principal Components\")\n",
    "    \n",
    "    # Now show the plot\n",
    "    plt.show()\n",
    "    \n",
    "def PCA():\n",
    "    # First, generate data\n",
    "    D = generate_data()\n",
    "    # Next, compute covariance matrix\n",
    "    Sigma = np.cov(D)\n",
    "    print(\"Covariance Matrix is given by: \\n %s \\n\" % (Sigma))\n",
    "    \n",
    "    # Next, get eigenvectors and eigenvalues of covariance matrix\n",
    "    lam, v = np.linalg.eig(Sigma)\n",
    "    print(\"Eigenvalues of covariance matrix: \\n %s \\n\" % (lam))\n",
    "    print(\"Eigenvectors of covariance matrix: \\n %s \\n\" % (v))\n",
    "\n",
    "    \n",
    "    # Show PCA in two dimensions\n",
    "    plot(D, vector=v)\n",
    "\n",
    "# Now we can call the function!\n",
    "print(\"Example 1: \\n\")\n",
    "PCA()\n",
    "print(\"Example 2: \\n\")\n",
    "PCA()\n",
    "\n"
   ]
  },
  {
   "cell_type": "markdown",
   "metadata": {},
   "source": [
    "PCA is just one of many linear-algebra based problems in machine learning that can be solved using machine learning!"
   ]
  },
  {
   "cell_type": "markdown",
   "metadata": {},
   "source": [
    "## Conclusions and Takeaways\n",
    "\n",
    "Numpy is a powerful package for vector and matrix computation in Python.  In this tutorial, we've explored the following concepts:\n",
    "\n",
    "1. Numpy nd-arrays\n",
    "\n",
    "2. Axis, Shape, and Dimension\n",
    "\n",
    "3. Probability and Statistics in Numpy\n",
    "\n",
    "4. Slicing and Indexing in Numpy\n",
    "\n",
    "5. Linear Algebra in Numpy with PCA\n",
    "\n",
    "This tutorial covers a microscopic fraction of all the functionality built into [numpy](https://numpy.org/).  We highly encourage you to explore this library further!"
   ]
  }
 ],
 "metadata": {
  "kernelspec": {
   "display_name": "Python 3",
   "language": "python",
   "name": "python3"
  },
  "language_info": {
   "codemirror_mode": {
    "name": "ipython",
    "version": 3
   },
   "file_extension": ".py",
   "mimetype": "text/x-python",
   "name": "python",
   "nbconvert_exporter": "python",
   "pygments_lexer": "ipython3",
   "version": "3.6.8"
  }
 },
 "nbformat": 4,
 "nbformat_minor": 2
}
