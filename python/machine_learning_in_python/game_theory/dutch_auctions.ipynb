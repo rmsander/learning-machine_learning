{
 "cells": [
  {
   "cell_type": "markdown",
   "metadata": {},
   "source": [
    "## Dutch Auctions in Python\n",
    "This notebook implements some classes and scripts for running Dutch Auctions in Python.  In this case, we experiment with a Quasi-Hyperbolic discounting Bidder and a Uniform Bidder in tandem with this Dutch Auction system to see if the Quasi-Hyperbolic discounting Bidder bids \"early\" (i.e. earlier than when they initially believed they would bid)."
   ]
  },
  {
   "cell_type": "markdown",
   "metadata": {},
   "source": [
    "### Import Block\n",
    "For this, we only need `numpy`, `copy`, and `pandas`."
   ]
  },
  {
   "cell_type": "code",
   "execution_count": null,
   "metadata": {},
   "outputs": [],
   "source": [
    "import numpy as np\n",
    "import copy\n",
    "import pandas as pd"
   ]
  },
  {
   "cell_type": "markdown",
   "metadata": {},
   "source": [
    "### Uniform Bidder\n",
    "This bidder simply bids if the price is less than their current value for the item."
   ]
  },
  {
   "cell_type": "code",
   "execution_count": 2,
   "metadata": {},
   "outputs": [],
   "source": [
    "class UniformBidder:\n",
    "    \"\"\"Class for a player with uniform discounting.\n",
    "\n",
    "    Parameters:\n",
    "        starting_value (float):  The starting value the player holds for the\n",
    "            item they are bidding on.\n",
    "    \"\"\"\n",
    "    def __init__(self, starting_value=0):\n",
    "        self.value = starting_value\n",
    "\n",
    "    def reset_value(self, starting_price):\n",
    "        \"\"\"Resets the value of the UniformBidder bidder to be uniformly over the\n",
    "        domain [0, 1.1 x starting_price].\n",
    "\n",
    "        Parameters:\n",
    "            starting_price (float): The starting price of the item to be bid for.\n",
    "                Used for scaling the chosen starting value for the player.\n",
    "        \"\"\"\n",
    "        upper_bound = int(starting_price * 1.1)\n",
    "        self.value = np.random.randint(low=0, high=upper_bound)"
   ]
  },
  {
   "cell_type": "markdown",
   "metadata": {},
   "source": [
    "### Quasi-Hyperbolic Bidder\n",
    "This bidder exhibits Quasi-Hyperbolic discounting, and also computes expected discounted utilities that capture the assumption that this player assumes their opponent is a `ConstantBidder`."
   ]
  },
  {
   "cell_type": "code",
   "execution_count": 3,
   "metadata": {},
   "outputs": [],
   "source": [
    "class QuasiHyperbolicBidder:\n",
    "    \"\"\"Class for a bidding player with quasi-hyperbolic discounting.\n",
    "\n",
    "    Parameters:\n",
    "        beta (float):  A float value (typically) between [0, 1] representing the\n",
    "            long-term discount factor used for quasi-hyperbolic discounting.\n",
    "        delta (float):  A float value (typically) between [0, 1] representing the\n",
    "            short-term, exponential discount factor used for quasi-hyperbolic\n",
    "            discounting.\n",
    "        value (float): The undiscounted, deterministic value the player holds for\n",
    "            the item being bid on.\n",
    "    \"\"\"\n",
    "    def __init__(self, beta, delta, value):\n",
    "        self.beta = beta  # Long-term discount factor\n",
    "        self.delta = delta  # Short-term discount factor\n",
    "        self.value = value  # The value the player holds for an item\n",
    "        self.optimal_utilities = {}\n",
    "        self.optimal_periods = {}\n",
    "\n",
    "    def compute_utility(self, t, tau, price, price_delta):\n",
    "        \"\"\"Computes the utility for a given time.\n",
    "\n",
    "        Parameters:\n",
    "            t (int):  The current time step for bidding.\n",
    "            tau (int): The number of timesteps into the future considered.\n",
    "            price (float):  The current price of the item for which the player can bid.\n",
    "            price_delta (float): How much the price is decremented during each period.\n",
    "\n",
    "        Returns:\n",
    "            u (float): The expected, discounted utility of placing a bid at timestep\n",
    "                t + tau, with price given by price and the change in price given by\n",
    "                price_delta.  Note that this is computed with respect to the current\n",
    "                time step t.\n",
    "        \"\"\"\n",
    "        # Probability of being able to bid tau steps into the future\n",
    "        prob_bid = np.prod([1-(1/(1-price + price_delta*i)) for i in range (1,tau+1)])\n",
    "\n",
    "        # Probability of not being able to bid tau steps into the future\n",
    "        prob_otherbid = np.sum([1/(1-price+price_delta*j)*np.prod([(1/(1-price+price_delta*i)) for i in range(1, j+1)]) for j in range(1, tau+1)])\n",
    "\n",
    "        # Quasi-hyperbolic discounting factor\n",
    "        time_discount = self.beta*self.delta**tau\n",
    "\n",
    "        # The undiscounted, deterministic instantaneous utility of bidding at time step t + tau\n",
    "        bid_utility = self.value-(price-price_delta*(t+tau))\n",
    "\n",
    "        # Take final utility as first_term - second_term\n",
    "        return (prob_bid * time_discount * bid_utility) - (prob_otherbid * time_discount * self.value)\n",
    "\n",
    "    def reset_value(self, starting_price):\n",
    "        \"\"\"Resets the value of the UniformBidder bidder to be uniformly over the\n",
    "        domain [0, 1.1 x starting_price].\n",
    "\n",
    "        Parameters:\n",
    "            starting_price (float): The starting price of the item to be bid for.\n",
    "                Used for scaling the chosen starting value for the player.\n",
    "        \"\"\"\n",
    "        upper_bound = int(starting_price * 1.1)\n",
    "        self.value = np.random.randint(low=0, high=upper_bound)"
   ]
  },
  {
   "cell_type": "markdown",
   "metadata": {},
   "source": [
    "### Dutch Auction Class\n",
    "This class implements a Dutch Auction.  In a Dutch Auction, once a player places a bid, the item is sold to the player at that price.  The price starts at a high starting price, and is\n",
    "decremented (assumed to be by a constant amount in this setup) in each time step."
   ]
  },
  {
   "cell_type": "code",
   "execution_count": 4,
   "metadata": {},
   "outputs": [],
   "source": [
    "class DutchAuction:\n",
    "    \"\"\"Class implementing a two-player Dutch Auction system.\n",
    "\n",
    "    Parameters:\n",
    "        starting_price (float):  The starting price of the item to be bid on.\n",
    "        p1 (QuasiHyperbolicBidder):  Player 1 for the Dutch Auction.\n",
    "        p2 (ConstantBidder):  Player 2 for the Dutch Auction.\n",
    "        price_increment (float): The amount by which the price changes after\n",
    "            each time step.  Defaults to 1.0\n",
    "    \"\"\"\n",
    "    def __init__(self, starting_price, p1, p2, price_increment=1.0):\n",
    "        self.starting_price = starting_price  # Starting price\n",
    "        self.price_increment = price_increment  # How much price drops by\n",
    "        self.T = int(self.starting_price // self.price_increment)  # How many periods until bid price hits zero\n",
    "        self.p1 = p1  # For now, this can be a QuasiHyperbolicBidder() class\n",
    "        self.p2 = p2  # For now, this can be a Constant() class\n",
    "\n",
    "        # Keep track of results from bidding\n",
    "        self.player_bids = []\n",
    "        self.bid_prices = []\n",
    "        self.player_vals = []\n",
    "\n",
    "    def run_auction(self):\n",
    "        \"\"\"Method to run a single action simulation.\"\"\"\n",
    "        # Reset the value of the random player\n",
    "        self.p2.reset_value(self.starting_price)\n",
    "        self.p1.reset_value(self.starting_price)\n",
    "        self.player_vals.append(self.p1.value)\n",
    "\n",
    "        # Set a variable for price using the starting price\n",
    "        current_price = copy.deepcopy(self.starting_price)\n",
    "        steps_left = copy.deepcopy(self.T)\n",
    "        t = 0\n",
    "        \n",
    "        while current_price > 0:  # Bid does not go below zero\n",
    "\n",
    "            # If True, p2 places bid\n",
    "            if self.p2.value >= current_price:\n",
    "                self.player_bids.append(2)\n",
    "                self.bid_prices.append(current_price)\n",
    "                return\n",
    "\n",
    "            # If True, p1 places bid\n",
    "            utilities = [self.p1.compute_utility(t, tau, current_price, self.price_increment) for tau in range(steps_left-1)]\n",
    "\n",
    "            # Find optimal utility and store it\n",
    "            self.p1.optimal_utilities[t] = np.max(utilities)\n",
    "            self.p1.optimal_periods[t] = np.argmax(utilities) + t\n",
    "\n",
    "            # Check if best time to bid is at current time step\n",
    "            if np.argmax(utilities) == 0:  # Best time to bid is now\n",
    "                df_dict = [self.p1.optimal_utilities, self.p1.optimal_periods]\n",
    "                df = pd.DataFrame(df_dict)\n",
    "                df.to_csv(\"best_utilities.csv\")\n",
    "                self.player_bids.append(1)\n",
    "                self.bid_prices.append(current_price)\n",
    "                return\n",
    "\n",
    "            # No one has placed bid, decrement price and number of periods remaining\n",
    "            current_price -= self.price_increment\n",
    "            steps_left -= 1\n",
    "            t += 1\n",
    "\n",
    "        # If here, no one has placed bid\n",
    "        self.player_bids.append(-1)\n",
    "        self.bid_prices.append(-1)\n",
    "\n",
    "    def run_auction_simulations(self, n=1000):\n",
    "        \"\"\"Makes repeated calls to run_action to run Monte Carlo simulations.\"\"\"\n",
    "        for i in range(n):  # Number of simulations\n",
    "            self.run_auction()"
   ]
  },
  {
   "cell_type": "markdown",
   "metadata": {},
   "source": [
    "### Run Simulations\n",
    "With our bidders and auction class defined, we're ready to run Monte Carlo simulations!"
   ]
  },
  {
   "cell_type": "markdown",
   "metadata": {},
   "source": [
    "#### Set Up Parameters, Bidders, and Auction"
   ]
  },
  {
   "cell_type": "code",
   "execution_count": 6,
   "metadata": {},
   "outputs": [],
   "source": [
    "# Set parameters\n",
    "BETA = 1\n",
    "DELTA = .5\n",
    "P1_VALUE = 7\n",
    "P2_VALUE = 5\n",
    "STARTING_PRICE = 10\n",
    "PRICE_INCREMENT = 1\n",
    "\n",
    "# Make players\n",
    "p1 = QuasiHyperbolicBidder(BETA, DELTA, P1_VALUE)\n",
    "p2 = UniformBidder(starting_value=P2_VALUE)\n",
    "\n",
    "# Make auction\n",
    "auction = DutchAuction(STARTING_PRICE, p1, p2, price_increment=PRICE_INCREMENT)"
   ]
  },
  {
   "cell_type": "markdown",
   "metadata": {},
   "source": [
    "#### Run Simulations!"
   ]
  },
  {
   "cell_type": "code",
   "execution_count": 7,
   "metadata": {},
   "outputs": [],
   "source": [
    "# Run 10 auctions\n",
    "auction.run_auction_simulations(n=10)"
   ]
  },
  {
   "cell_type": "markdown",
   "metadata": {},
   "source": [
    "#### Extract Player Bids, Bid Prices, and Number of Times the Quasi-Hyperbolic Bidder Bids \"Early\""
   ]
  },
  {
   "cell_type": "code",
   "execution_count": 9,
   "metadata": {},
   "outputs": [
    {
     "name": "stdout",
     "output_type": "stream",
     "text": [
      "Player bids: \n",
      "[2 2 1 1 2 1 2 1 2 2]\n",
      "Bid prices: \n",
      "[8 9 9 9 6 6 3 2 8 8]\n",
      "Number of times QuasiHyperbolicBidder bids early: 2\n"
     ]
    }
   ],
   "source": [
    "# Extract player bids, player values, and bid prices\n",
    "auction.player_bids = np.array(auction.player_bids)\n",
    "auction.player_vals = np.array(auction.player_vals)\n",
    "auction.bid_prices = np.array(auction.bid_prices)\n",
    "\n",
    "# Display bids and prices\n",
    "print(\"Player bids: \\n{}\".format(auction.player_bids))\n",
    "print(\"Bid prices: \\n{}\".format(auction.bid_prices))\n",
    "\n",
    "# Count the number of times QuasiHyperbolicBidder bids early\n",
    "count_bid_early = sum(auction.bid_prices[auction.player_bids==1] < auction.player_vals[auction.player_bids==1])\n",
    "print(\"Number of times QuasiHyperbolicBidder bids early: {}\".format(count_bid_early))"
   ]
  }
 ],
 "metadata": {
  "kernelspec": {
   "display_name": "interreplay",
   "language": "python",
   "name": "interreplay"
  },
  "language_info": {
   "codemirror_mode": {
    "name": "ipython",
    "version": 3
   },
   "file_extension": ".py",
   "mimetype": "text/x-python",
   "name": "python",
   "nbconvert_exporter": "python",
   "pygments_lexer": "ipython3",
   "version": "3.8.3"
  }
 },
 "nbformat": 4,
 "nbformat_minor": 2
}
