{
 "cells": [
  {
   "cell_type": "markdown",
   "metadata": {},
   "source": [
    "# Generative Point Cloud Models for Object Detection\n",
    "To fit point clouds to bounding boxes, we'll develop approaches for sampling bounding boxes that minimize the Chamfer distance between their point-transformed bounding box equivalents and the observed point cloud.  We'll do this using [Gen](https://www.gen.dev/), a novel probabilistic programming language built on top of Julia."
   ]
  },
  {
   "cell_type": "markdown",
   "metadata": {},
   "source": [
    "### Import block\n",
    "If any of the blocks below are missing, please go through the following process below to have them installed:\n",
    "\n",
    "1. Go to a Julia REPL (if Julia is installed, simply type `julia` in your shell where it is recognized).\n",
    "2. Type `using Pkg`.\n",
    "3. Add the name of the missing package with: `Pkg.add(\"<PKG NAME>\")` (without the braces \"<\" and \">\")."
   ]
  },
  {
   "cell_type": "code",
   "execution_count": null,
   "metadata": {},
   "outputs": [],
   "source": [
    "using PyPlot  # Import PyPlot\n",
    "using Gen  # Import gen\n",
    "using Random, Distributions  # Synthetic dataset generation\n",
    "using Plots  # Displaying our data\n",
    "using PyCall  # Python interop\n",
    "using LinearAlgebra  # Chamfer distance computation\n",
    "using Plotly  # Plotting grids"
   ]
  },
  {
   "cell_type": "markdown",
   "metadata": {},
   "source": [
    "### Create a Synthetic Dataset\n",
    "We'll use Julia random numbers framework framework to create a function for a synthetic dataset."
   ]
  },
  {
   "cell_type": "code",
   "execution_count": null,
   "metadata": {},
   "outputs": [],
   "source": [
    "# First, set random seed\n",
    "rng = MersenneTwister(8080);"
   ]
  },
  {
   "cell_type": "markdown",
   "metadata": {},
   "source": [
    "#### Uniform PC Model\n",
    "Samples points uniformly over the boundary $[0,1]^3$."
   ]
  },
  {
   "cell_type": "code",
   "execution_count": null,
   "metadata": {},
   "outputs": [],
   "source": [
    "function pc_model_uniform(N::Int)\n",
    "    \"\"\" Generative model for our point cloud synthetic dataset. Samples random 3-dimensional points in \n",
    "    the domain [0, 1].\n",
    "    \"\"\"\n",
    "    return rand!(rng, zeros(N, 3))\n",
    "end"
   ]
  },
  {
   "cell_type": "markdown",
   "metadata": {},
   "source": [
    "#### Bounding Box PC Model\n",
    "Samples points from the edges of a proposed bounding box and adds noise to them to construct a point cloud."
   ]
  },
  {
   "cell_type": "code",
   "execution_count": null,
   "metadata": {},
   "outputs": [],
   "source": [
    "function pc_model_bbox_random(N, L, W, H, sigma, xc=0.0, yc=0.0, zc=0.0)\n",
    "    \"\"\" Generative model for our point cloud synthetic dataset. Samples random 3-dimensional points using Gaussian \n",
    "    distributions centered on the coordinates of a specified bounding box.\n",
    "    \"\"\"\n",
    "    # Compute points per segment\n",
    "    N_seg = convert(Int32, N/12)\n",
    "    \n",
    "    # Get origin\n",
    "    x0 = xc - L/2\n",
    "    y0 = yc - W/2\n",
    "    z0 = zc - H/2\n",
    "    \n",
    "    # First group of segments\n",
    "    s1 = [[x0+(i*L)/N_seg, y0, z0]+rand(Normal(0, sigma), 3) for i in 1:N_seg]\n",
    "    s2 = [[x0+(i*L)/N_seg, y0+W, z0]+rand(Normal(0, sigma), 3) for i in 1:N_seg]\n",
    "    s3 = [[x0+(i*L)/N_seg, y0, z0+H]+rand(Normal(0, sigma), 3) for i in 1:N_seg]\n",
    "    s4 = [[x0+(i*L)/N_seg, y0+W, z0+H]+rand(Normal(0, sigma), 3) for i in 1:N_seg]\n",
    "    \n",
    "    # Second group of segments\n",
    "    s5 = [[x0, y0+(j*W)/N_seg, z0]+rand(Normal(0, sigma), 3) for j in 1:N_seg]\n",
    "    s6 = [[x0+L, y0+(j*W)/N_seg, z0]+rand(Normal(0, sigma), 3) for j in 1:N_seg]\n",
    "    s7 = [[x0, y0+(j*W)/N_seg, z0+H]+rand(Normal(0, sigma), 3) for j in 1:N_seg]\n",
    "    s8 = [[x0+L, y0+(j*W)/N_seg, z0+H]+rand(Normal(0, sigma), 3) for j in 1:N_seg]\n",
    "    \n",
    "    # Third group of segments\n",
    "    s9 = [[x0, y0, z0+(k*H)/N_seg]+rand(Normal(0, sigma), 3) for k in 1:N_seg]\n",
    "    s10 = [[x0+L, y0, z0+(k*H)/N_seg]+rand(Normal(0, sigma), 3) for k in 1:N_seg]\n",
    "    s11 = [[x0, y0+W, z0+(k*H)/N_seg]+rand(Normal(0, sigma), 3) for k in 1:N_seg]\n",
    "    s12 = [[x0+L, y0+W, z0+(k*H)/N_seg]+rand(Normal(0, sigma), 3) for k in 1:N_seg]\n",
    "    \n",
    "    segments = [s1, s2, s3, s4, s5, s6, s7, s8, s9, s10, s11, s12]\n",
    "    A = zeros(12*N_seg+1, 3)\n",
    "    A[1,:] = [0 0 0]\n",
    "    index = 2\n",
    "    S_tot = zeros(3)\n",
    "    for s in segments\n",
    "        for si in s\n",
    "            A[index,:] = si\n",
    "            S_tot += si\n",
    "            index += 1\n",
    "        end\n",
    "    end\n",
    "    mean = S_tot*(1/N)\n",
    "    return A\n",
    "end"
   ]
  },
  {
   "cell_type": "markdown",
   "metadata": {},
   "source": [
    "### Transform Bounding Box to Point Cloud\n",
    "For visualization and for computing the Chamfer distance between the point cloud and bounding box, we'll need to convert our bounding box to a point cloud as well.  Below is our function to accomplish this."
   ]
  },
  {
   "cell_type": "code",
   "execution_count": null,
   "metadata": {},
   "outputs": [],
   "source": [
    "function box2points(dims, points_per_seg, xc=0.0, yc=0.0, zc=0.0)\n",
    "    \"\"\"Function for transforming a given bounding box (determined by length (L), width (W), and height (H), \n",
    "    as well as a center point given by (xc, yc, zc).  The total number of points in this point cloud is equal\n",
    "    to (12*points_per_seg) + 1.\"\"\"\n",
    "    \n",
    "    # Get dimensions of box\n",
    "    (L, W, H) = dims\n",
    "    \n",
    "    # Get origin\n",
    "    x0 = xc - L/2\n",
    "    y0 = yc - W/2\n",
    "    z0 = zc - H/2\n",
    "    \n",
    "    # First group of segments\n",
    "    s1 = [[x0+((i*L)/points_per_seg), y0, z0] for i in 1:points_per_seg]\n",
    "    s2 = [[x0+((i*L)/points_per_seg), y0+W, z0] for i in 1:points_per_seg]\n",
    "    s3 = [[x0+((i*L)/points_per_seg), y0, z0+H] for i in 1:points_per_seg]\n",
    "    s4 = [[x0+((i*L)/points_per_seg), y0+W, z0+H] for i in 1:points_per_seg]\n",
    "    \n",
    "    # Second group of segments\n",
    "    s5 = [[x0, y0+((j*W)/points_per_seg), z0] for j in 1:points_per_seg]\n",
    "    s6 = [[x0+L, y0+((j*W)/points_per_seg), z0] for j in 1:points_per_seg]\n",
    "    s7 = [[x0, y0+((j*W)/points_per_seg), z0+H] for j in 1:points_per_seg]\n",
    "    s8 = [[x0+L, y0+((j*W)/points_per_seg), z0+H] for j in 1:points_per_seg]\n",
    "    \n",
    "    # Third group of segments\n",
    "    s9 = [[x0, y0, z0+((k*H)/points_per_seg)] for k in 1:points_per_seg]\n",
    "    s10 = [[x0+L, y0, z0+((k*H)/points_per_seg)] for k in 1:points_per_seg]\n",
    "    s11 = [[x0, y0+W, z0+((k*H)/points_per_seg)] for k in 1:points_per_seg]\n",
    "    s12 = [[x0+L, y0+W, z0+((k*H)/points_per_seg)] for k in 1:points_per_seg]\n",
    "    \n",
    "    # Concatenate all segments\n",
    "    segments = [s1, s2, s3, s4, s5, s6, s7, s8, s9, s10, s11, s12]\n",
    "    \n",
    "    # Initialize output data structure\n",
    "    A = zeros(12*points_per_seg+1, 3)\n",
    "    A[1,:] = [0 0 0]\n",
    "    index = 2\n",
    "    for s in segments  # Add segments\n",
    "        for si in s  # Add points in segments\n",
    "            A[index,:] = si\n",
    "            index += 1\n",
    "        end\n",
    "    end\n",
    "    return A\n",
    "    end    "
   ]
  },
  {
   "cell_type": "markdown",
   "metadata": {},
   "source": [
    "### Visualize synthetic dataset\n",
    "We'll use the PyPlot library to qualitatively examine our data, and later, this will help us determine the goodness of fit for our bounding boxes."
   ]
  },
  {
   "cell_type": "code",
   "execution_count": null,
   "metadata": {},
   "outputs": [],
   "source": [
    "function plot_data(points1, points2, title=\"\")\n",
    "    \"\"\"Function for plotting point cloud data, usually comparing a point-transformed bounding box to an \n",
    "    observed point cloud.  For visualizing a single point cloud, simply pass the same set of points in twice.\"\"\"\n",
    "    \n",
    "    Plots.scatter(points2[:,1], points2[:,2], points2[:,3], label=\"Bounding Box\", markersize=1, title=title)\n",
    "    Plots.scatter!(points1[:,1], points1[:,2],points1[:,3], label=\"Point Cloud\", markersize=3)\n",
    "end\n",
    "    "
   ]
  },
  {
   "cell_type": "markdown",
   "metadata": {},
   "source": [
    "#### Sample Plotting\n",
    "See below for an example with constructing and plotting point clouds."
   ]
  },
  {
   "cell_type": "code",
   "execution_count": null,
   "metadata": {},
   "outputs": [],
   "source": [
    "box_points = box2points((1, 1, 1), 1000)\n",
    "pc_points = pc_model_uniform(1000)\n",
    "plot_data(pc_points, box_points)"
   ]
  },
  {
   "cell_type": "markdown",
   "metadata": {},
   "source": [
    "### Plot Combined\n",
    "Function for visualizing several traces/point clouds at once."
   ]
  },
  {
   "cell_type": "code",
   "execution_count": null,
   "metadata": {},
   "outputs": [],
   "source": [
    "function plot_grid(traces, point_cloud, points_per_seg)\n",
    "    \n",
    "    # Iterate through traces\n",
    "    for (i,trace) in enumerate(traces)\n",
    "        \n",
    "        # Get choices from traces\n",
    "        choices = Gen.get_choices(trace)\n",
    "        \n",
    "        # Get parameters\n",
    "        L1 = choices[:L]\n",
    "        W1 = choices[:W]\n",
    "        H1 = choices[:H]\n",
    "        # Convert to points\n",
    "        box_points = box2points((L1, W1, H1), points_per_seg)\n",
    "        \n",
    "        # Create scatterplots\n",
    "        plt = Plots.scatter(box_points[:,1],box_points[:,2],box_points[:,3], label=\"Bounding Box\", markersize=1, title= \"z =$choices[:z]\")\n",
    "        Plots.scatter!(point_cloud[:,1],point_cloud[:,2],point_cloud[:,3], label=\"Point Cloud\", markersize=2)\n",
    "        Plots.display(plt)\n",
    "    end\n",
    "end\n",
    "\n",
    "        "
   ]
  },
  {
   "cell_type": "markdown",
   "metadata": {},
   "source": [
    "### Chamfer distance for scoring proposed bounding boxes\n",
    "We'll evaluate the likelihood of a bounding box using the Chamfer distance.  We'll choose proposed bounding boxes that minimize the Chamfer distance between the point-transformed point cloud and the observed point cloud."
   ]
  },
  {
   "cell_type": "code",
   "execution_count": null,
   "metadata": {},
   "outputs": [],
   "source": [
    "# Implementation source: http://graphics.stanford.edu/courses/cs468-17-spring/LectureSlides/L14%20-%203d%20deep%20learning%20on%20point%20cloud%20representation%20(analysis).pdf\n",
    "function chamfer_distance(points_A, points_B)\n",
    "    \"\"\"Function for computing the Chamfer distance between two point clouds ('points_A' and 'points_B').  Note: this metric is\n",
    "    not normalized by the total number of points in the point cloud.\"\"\"\n",
    "    \n",
    "    # Used to keep track of total chamfer distance\n",
    "    tot = 0\n",
    "    \n",
    "    # Compute error for point cloud A\n",
    "    for pA in points_A\n",
    "        X = [pA-pB for pB in points_B]\n",
    "        tot += minimum([abs2(LinearAlgebra.norm(X[i,:], 2)) for i in 1:convert(Int32, length(X)/3)])\n",
    "    end\n",
    "    \n",
    "    # Compute error for point cloud B\n",
    "    for pB in points_B\n",
    "        X = [pB-pA for pA in points_A]\n",
    "        tot += minimum([abs2(LinearAlgebra.norm(X[i,:], 2)) for i in 1:convert(Int32, length(X)/3)])\n",
    "    end\n",
    "    return tot\n",
    "end\n",
    "    "
   ]
  },
  {
   "cell_type": "markdown",
   "metadata": {},
   "source": [
    "### Generative Model using Multivariate Gaussian Normal\n",
    "To do a Bayesian fitting of a bounding box, we first need to center the bounding box on the point cloud.  To accomplish this, we'll use a generative model that samples a given **L, W, H**.\n",
    "\n",
    "This bounding box generative model will be created using **Gen**."
   ]
  },
  {
   "cell_type": "code",
   "execution_count": null,
   "metadata": {},
   "outputs": [],
   "source": [
    "@gen function mv_bounding_box_model(bounds, N, zeta=0.01)\n",
    "    \"\"\"Generative model for our bounding box using Gen.  This generative function samples a center point of the \n",
    "    point cloud (xc, yc, zc), as well as dimensions length (L), width (W), and height (H).  It also samples a \n",
    "    standard deviation sigma.  With all of these variables, it then samples points from the proposed center point \n",
    "    according to the multivariate normal distribution N([xc, yc, zc], sigma*I3).\"\"\"\n",
    "    \n",
    "    # Get bounds from arguments\n",
    "    ((x_min, x_max), (y_min, y_max), (z_min, z_max), (sigma_min, sigma_max)) = bounds    \n",
    "    \n",
    "    # Sample center coordinate of the bounding box\n",
    "    xc = @trace(uniform(x_min, x_max), :xc)\n",
    "    yc = @trace(uniform(y_min, y_max), :yc)\n",
    "    zc = @trace(uniform(z_min, z_max), :zc)\n",
    "    \n",
    "    # Sample L, W, H\n",
    "    W = @trace(uniform(0, 1), :W)\n",
    "    L = @trace(uniform(0, 1), :L)\n",
    "    H = @trace(uniform(0, 1), :H)\n",
    "    \n",
    "    # Sample standard deviation for the center of the point cloud\n",
    "    sigma = @trace(uniform(sigma_min, sigma_max), :sigma)\n",
    "    \n",
    "    mean = [xc, yc, zc]\n",
    "    cov = Matrix(sigma*I, 3, 3)\n",
    "    \n",
    "    # Now sample N points using a multivariate normal distribution\n",
    "    sampled_points = zeros(N, 3)\n",
    "    for i in 1:N\n",
    "        sampled_points[i, :] = @trace(mvnormal(mean, Matrix(sigma*I, 3, 3)), (:y, i))\n",
    "    end\n",
    "    # We also use the returned y values\n",
    "end\n",
    "    "
   ]
  },
  {
   "cell_type": "markdown",
   "metadata": {},
   "source": [
    "### Custom Proposal Distribution\n",
    "To increase the sample efficiency of our estimates, we can use a custom proposal distribution that computes the mean of the observed dataset, and uses this as the mean $(x_c, y_c, z_c)$ coordinate of the bounding box."
   ]
  },
  {
   "cell_type": "code",
   "execution_count": null,
   "metadata": {},
   "outputs": [],
   "source": [
    "@gen function mean_pc_proposal(observations, zeta=0.01)\n",
    "    \"\"\"Gen proposal function for more efficiently proposing point clouds.  Samples the mean of the proposed point\n",
    "    cloud at three-dimensional locations that are noisy means of the true location of the observed point cloud.\n",
    "    Effectively, this ensures that the proposed bounding box is centered around the observed point cloud.  This\n",
    "    is used as a custom proposal distribution in our importance sampling method.\"\"\"\n",
    "    \n",
    "    # Compute the mean of the observations\n",
    "    mu = sum(observations, dims=1) / (length(observations) ÷ 3)\n",
    "    \n",
    "    # Sample the center point of the point cloud\n",
    "    xc = @trace(normal(mu[1], zeta), :xc)\n",
    "    yc = @trace(normal(mu[2], zeta), :yc)\n",
    "    zc = @trace(normal(mu[3], zeta), :zc)\n",
    "    \n",
    "    return nothing\n",
    "end"
   ]
  },
  {
   "cell_type": "markdown",
   "metadata": {},
   "source": [
    "### Inference\n",
    "With our generative models defined, we are now ready to perform inference for bounding boxes based off of datasets.  We'll use importance sampling with our custom proposal function."
   ]
  },
  {
   "cell_type": "code",
   "execution_count": null,
   "metadata": {},
   "outputs": [],
   "source": [
    "# We can now write the do_inference function\n",
    "function inference(model, proposal, bounds, ys, amount_of_computation)\n",
    "    \"\"\"Function for carrying out inference with our generative model and custom proposal and importance sampling.\"\"\"\n",
    "\n",
    "    # Create a choice map for our observed point cloud\n",
    "    observations = Gen.choicemap()\n",
    "    N = length(ys) ÷ 3  # Compute length of ys for generative model\n",
    "    for i in 1:N  # Add observed points to choice map\n",
    "        observations[(:y, i)] = ys[i,:]\n",
    "    end\n",
    "    \n",
    "    # Call importance_resampling to obtain a likely trace consistent with observations\n",
    "    (traces, _) = Gen.importance_sampling(model, (bounds, N), observations, proposal, \n",
    "                                         (ys,), amount_of_computation);\n",
    "    return traces\n",
    "end;"
   ]
  },
  {
   "cell_type": "markdown",
   "metadata": {},
   "source": [
    "#### Sample Inference Procedure\n",
    "Here's an example of how we can run inference."
   ]
  },
  {
   "cell_type": "code",
   "execution_count": null,
   "metadata": {},
   "outputs": [],
   "source": [
    "# Create observations\n",
    "L = 0.5\n",
    "W = 0.25\n",
    "H = 0.1\n",
    "N_points = 240\n",
    "epsilon = 0.02\n",
    "observations = pc_model_bbox_random(N_points, L, W, H, epsilon)\n",
    "\n",
    "# Number of traces\n",
    "num_traces = 100\n",
    "\n",
    "# Now run inference\n",
    "x_min, x_max, y_min, y_max, z_min, z_max = 0, 1, 0, 1, 0, 1\n",
    "sigma_min = 0.01\n",
    "sigma_max = 0.1\n",
    "bounds = ((x_min, x_max), (y_min, y_max), (z_min, z_max), (sigma_min, sigma_max))\n",
    "traces = inference(mv_bounding_box_model, mean_pc_proposal, bounds, observations, num_traces);\n",
    "println(\"Number of traces: $(length(traces))\")"
   ]
  },
  {
   "cell_type": "markdown",
   "metadata": {},
   "source": [
    "### Compute Z From Traces\n",
    "Using our traces sampled via importance sampling, which help us to find the center of a bounding box, we can then compute Z, which is a chamfer distance between a proposed bounding box and a point cloud.  We can construct an empirical distribution of z over all these choices, and then condition on z = 0 (the optimal value of z)."
   ]
  },
  {
   "cell_type": "code",
   "execution_count": null,
   "metadata": {},
   "outputs": [],
   "source": [
    "function compute_noisy_chamfer(traces, observed_points)\n",
    "    \"\"\"Compute Chamfer distance between proposed traces and and observed points.\"\"\"\n",
    "    \n",
    "    # Get sampled choice values from traces\n",
    "    choices = [Gen.get_choices(trace) for trace in traces]\n",
    "    bboxes = [(choice[:L], choice[:W], choice[:H]) for choice in choices]\n",
    "    \n",
    "    # Initialize output Chamfer distance values\n",
    "    zs = zeros(length(traces))\n",
    "    N_observed_points = length(observed_points) ÷ 3\n",
    "    \n",
    "    # Iterate through bounding boxes from traces\n",
    "    for (i, bbox) in enumerate(bboxes)\n",
    "        if i % 100 == 0\n",
    "            println(\"Iterated through $i traces\")\n",
    "        end\n",
    "        bbox_points = box2points(bbox, N_observed_points ÷ 12)\n",
    "        zs[i] = chamfer_distance(bbox_points, observed_points)\n",
    "    end\n",
    "    return zs\n",
    "end"
   ]
  },
  {
   "cell_type": "markdown",
   "metadata": {},
   "source": [
    "#### Sample Chamfer distance computation and plotting\n",
    "We can compute the Chamfer distances we sampled above, and then we can use this to plot a histogram and time series of the Chamfer distance values over time."
   ]
  },
  {
   "cell_type": "code",
   "execution_count": null,
   "metadata": {},
   "outputs": [],
   "source": [
    "zs = compute_noisy_chamfer(traces, observations);"
   ]
  },
  {
   "cell_type": "code",
   "execution_count": null,
   "metadata": {},
   "outputs": [],
   "source": [
    "function plot_hist_and_time_series(zs)\n",
    "    \"\"\"Function for plotting the histogram and time series of data over Chamfer distance values for a set of traces.\"\"\"\n",
    "    p1 = Plots.histogram(zs, bins=10, title=\"Z across traces\")\n",
    "    step = 10\n",
    "    p2 = Plots.plot([i for i in 1:step:length(zs)], [zs[i] for i in 1:step:length(zs)], title=\"Z vs. number of resampled traces\")\n",
    "    Plots.plot(p1, p2, layout = (1, 2), legend = false)\n",
    "end"
   ]
  },
  {
   "cell_type": "code",
   "execution_count": null,
   "metadata": {},
   "outputs": [],
   "source": [
    "# Run the function\n",
    "plot_hist_and_time_series(zs)"
   ]
  },
  {
   "cell_type": "markdown",
   "metadata": {},
   "source": [
    "### Sample Conditionally on the traces closest to Zero\n",
    "As the final stage of our pipeline, we can sample from the smallest noisy Chamfer distance values to find candidate proposals that best fit the data."
   ]
  },
  {
   "cell_type": "code",
   "execution_count": null,
   "metadata": {},
   "outputs": [],
   "source": [
    "sorted_indices = sortperm(zs)\n",
    "\n",
    "# Now find best bounding box parameters\n",
    "choices = [Gen.get_choices(trace) for trace in traces]\n",
    "bboxes = [(choice[:L], choice[:W], choice[:H]) for choice in choices]\n",
    "centers = [[choice[:xc], choice[:yc], choice[:zc]] for choice in choices]\n",
    "\n",
    "best_bboxes = [bboxes[index] for index in sorted_indices[1:10]]\n",
    "best_centers = [centers[index] for index in sorted_indices[1:10]]\n",
    "#best_zs = [zs[index] for index in sorted_indices][1:10]\n",
    "bboxes2points = [box2points(best_bboxes[i], 100, best_centers[i][1], best_centers[i][2], best_centers[i][3]) for i in 1:10]"
   ]
  },
  {
   "cell_type": "code",
   "execution_count": null,
   "metadata": {},
   "outputs": [],
   "source": [
    "plot_data(observations, bboxes2points[1])"
   ]
  },
  {
   "cell_type": "markdown",
   "metadata": {},
   "source": [
    "## Generative Modeling and Inference for Object Detection on A2D2 Data\n",
    "Now that we have shown a proof of concept with synthetic data, we can now analyze the performance of this with real data taken from the Audi Autonomous Driving Dataset."
   ]
  },
  {
   "cell_type": "markdown",
   "metadata": {},
   "source": [
    "### Loading Data"
   ]
  },
  {
   "cell_type": "code",
   "execution_count": null,
   "metadata": {},
   "outputs": [],
   "source": [
    "using NPZ\n",
    "using JSON"
   ]
  },
  {
   "cell_type": "code",
   "execution_count": null,
   "metadata": {},
   "outputs": [],
   "source": [
    "function get_files(path)\n",
    "    \"\"\"Load A2D2 files from a given directory of the A2D2 date sub-directories.\"\"\"\n",
    "    \n",
    "    # Get data for lidar\n",
    "    lidar_path = string(path, \"lidar/cam_front_center/\")\n",
    "    lidar_files = readdir(lidar_path)\n",
    "    lidar_paths = [string(lidar_path, lidar_file) for lidar_file in lidar_files]\n",
    "    \n",
    "    # Get data for lidar\n",
    "    bbox_path = string(path, \"label3D/cam_front_center/\")\n",
    "    bbox_files = readdir(bbox_path)\n",
    "    bbox_paths = [string(bbox_path, bbox_file) for bbox_file in bbox_files]\n",
    "    \n",
    "    return lidar_paths, bbox_paths\n",
    "end"
   ]
  },
  {
   "cell_type": "code",
   "execution_count": null,
   "metadata": {},
   "outputs": [],
   "source": [
    "function load_data(lidar_path)\n",
    "    \"\"\"Load data using a NumPy file reader.\"\"\"\n",
    "    \n",
    "    # Initialize output point clouds\n",
    "    PC = npzread(lidar_path)[\"points\"]\n",
    "    return PC            \n",
    "end        "
   ]
  },
  {
   "cell_type": "code",
   "execution_count": null,
   "metadata": {},
   "outputs": [],
   "source": [
    "using JSON\n",
    "function load_bbox(bbox_path)\n",
    "    \"\"\"Load bounding box from a given bounding box path.\"\"\"\n",
    "    pc = nothing\n",
    "    open(bbox_path, \"r\") do f\n",
    "        dicttxt = JSON.parse(f)  # file information to string\n",
    "        boxes = keys(dicttxt)\n",
    "        box_points = [dicttxt[box][\"3d_points\"] for box in boxes]\n",
    "        box_classes = [dicttxt[box][\"class\"] for box in boxes]\n",
    "        for (j, box_class) in enumerate(box_classes)\n",
    "            if box_class == \"Car\"\n",
    "                pc = [convert(Array{Float64,1}, box_points[j][i]) for i in 1:length(box_points[j])]\n",
    "                break\n",
    "            end\n",
    "            \n",
    "        end\n",
    "    end\n",
    "    return pc\n",
    "end"
   ]
  },
  {
   "cell_type": "code",
   "execution_count": null,
   "metadata": {},
   "outputs": [],
   "source": [
    "function normalize_and_crop(bbox_points)\n",
    "    \"\"\"Normalize all points to fall in the interval [0, 1]^3, according to the locations of the bounding box \n",
    "    point cloud values.\"\"\"\n",
    "    \n",
    "    # Compute the mean of the observations\n",
    "    x = getindex.(bbox_points, 1)\n",
    "    y = getindex.(bbox_points, 2)\n",
    "    z = getindex.(bbox_points, 3)\n",
    "\n",
    "    min_x, max_x = minimum(x), maximum(x)\n",
    "    delta_x = max_x-min_x\n",
    "    min_y, max_y = minimum(y), maximum(y)\n",
    "    delta_y = max_y-min_y\n",
    "    min_z, max_z = minimum(z), maximum(z)\n",
    "    delta_z = max_z-min_z\n",
    "\n",
    "    \n",
    "    x_norm = [(xi-min_x)/(2*delta_x) for xi in x]\n",
    "    y_norm = [(yi-min_y)/(2*delta_y) for yi in y]\n",
    "    z_norm = [(zi-min_z)/(2*delta_z) for zi in z]\n",
    "    \n",
    "    println(x_norm)\n",
    "    norm_data = zeros(length(x), 3)\n",
    "    \n",
    "    i = 1\n",
    "    for (x,y,z) in zip(x_norm, y_norm, z_norm)\n",
    "        norm_data[i,:] = [x,y,z]\n",
    "        i += 1\n",
    "    end\n",
    "\n",
    "    return norm_data\n",
    "end"
   ]
  },
  {
   "cell_type": "markdown",
   "metadata": {},
   "source": [
    "### Perform inference for synthetic datasets\n",
    "We'll randomly generate datasets using a noisy bounding box model.  For each, we'll store the associated goal bounding box for comparing it to our top five traces."
   ]
  },
  {
   "cell_type": "code",
   "execution_count": null,
   "metadata": {},
   "outputs": [],
   "source": [
    "function synthetic_bounding_boxes(N=10, num_points=240, sigma=0.02)\n",
    "    \"\"\"Function for creating synthetic bounding bounding boxes.\"\"\"\n",
    "    pcs = [zeros(num_points, 3) for i in 1:N]\n",
    "    bbox_dimensions = [zeros(3) for i in 1:N]\n",
    "    for i in 1:N\n",
    "        L, W, H = rand!(rng, zeros(3))\n",
    "        bbox_dimensions[i] = [L,W,H] \n",
    "        pcs[i] = pc_model_bbox_random(num_points, L, W, H, sigma, 0.5, 0.5, 0.5)\n",
    "    end\n",
    "    return pcs, bbox_dimensions\n",
    "end"
   ]
  },
  {
   "cell_type": "code",
   "execution_count": null,
   "metadata": {},
   "outputs": [],
   "source": [
    "function crop_from_pc(pc, bbox_coords)\n",
    "    \n",
    "    cropped_cloud = []\n",
    "    \n",
    "    x_min = minimum(getindex.(bbox_coords, 1))\n",
    "    y_min = minimum(getindex.(bbox_coords, 2))\n",
    "    z_min = minimum(getindex.(bbox_coords, 3))\n",
    "    x_max = maximum(getindex.(bbox_coords, 1))\n",
    "    y_max = maximum(getindex.(bbox_coords, 2))\n",
    "    z_max = maximum(getindex.(bbox_coords, 3))\n",
    "    N = N = length(pc) ÷ 3\n",
    "    for i in 1:N\n",
    "        point = pc[i,:]\n",
    "        if point[1] >= x_min && point[1] <= x_max && \n",
    "           point[2] >= y_min && point[2] <= y_max &&\n",
    "           point[3] >= z_min && point[3] <= z_max \n",
    "            append!(cropped_cloud, point)\n",
    "        end\n",
    "    end\n",
    "    formatted_cloud = convert(Array{Float64,1}, cropped_cloud)\n",
    "    return formatted_cloud\n",
    "end\n",
    "    "
   ]
  },
  {
   "cell_type": "code",
   "execution_count": null,
   "metadata": {},
   "outputs": [],
   "source": [
    "function top_five_traces(point_cloud, original_bbox, num_traces)\n",
    "    # Bounds\n",
    "    x_min, x_max, y_min, y_max, z_min, z_max = 0, 1, 0, 1, 0, 1\n",
    "    sigma_min = 0.01\n",
    "    sigma_max = 0.1\n",
    "    bounds = ((x_min, x_max), (y_min, y_max), (z_min, z_max), (sigma_min, sigma_max))\n",
    "    \n",
    "    # Perform inference\n",
    "    traces = inference(mv_bounding_box_model, mean_pc_proposal, bounds, point_cloud, num_traces);\n",
    "    \n",
    "    # Sort according to highest-performing traces\n",
    "    zs = compute_noisy_chamfer(traces, point_cloud);\n",
    "    sorted_indices = sortperm(zs)\n",
    "    \n",
    "    # Now find best bounding box parameters\n",
    "    choices = [Gen.get_choices(trace) for trace in traces]\n",
    "    bboxes = [(choice[:L], choice[:W], choice[:H]) for choice in choices]\n",
    "    centers = [[choice[:xc], choice[:yc], choice[:zc]] for choice in choices]\n",
    "    \n",
    "    # Get best ones\n",
    "    best_bboxes = [bboxes[index] for index in sorted_indices[1:5]]\n",
    "    best_centers = [centers[index] for index in sorted_indices[1:5]]\n",
    "    #best_zs = [zs[index] for index in sorted_indices][1:10]\n",
    "    bboxes2points = [box2points(best_bboxes[i], 20, best_centers[i][1], best_centers[i][2], best_centers[i][3]) for i in 1:5]\n",
    "    \n",
    "    # Get best chamfer values\n",
    "    best_zs = [zs[index] for index in sorted_indices[1:5]]\n",
    "    # Now compare performance compared to original box\n",
    "    volume_bboxes = [best_bboxes[i][1] * best_bboxes[i][2] * best_bboxes[i][3] for i in 1:5]\n",
    "\n",
    "    # Now compare percent of points inside\n",
    "    points_in = [evaluate_points_inside(best_bboxes[i], best_centers[i], point_cloud) for i in 1:5]\n",
    "\n",
    "    # Get volume of original bounding box\n",
    "    volume_original_bbox = original_bbox[1] * original_bbox[2] * original_bbox[3]\n",
    "    \n",
    "return best_bboxes, best_centers, best_zs, volume_bboxes, points_in, volume_original_bbox\n",
    "end"
   ]
  },
  {
   "cell_type": "markdown",
   "metadata": {},
   "source": [
    "### Accuracy Metric\n",
    "We'll define the metric below for evaluating the total fraction of points that fall inside the proposed bounding box, and thus would be captured via a \"bounding box detection\"."
   ]
  },
  {
   "cell_type": "code",
   "execution_count": null,
   "metadata": {},
   "outputs": [],
   "source": [
    "function evaluate_points_inside(bbox, center, point_cloud)\n",
    "    \"\"\"Function for determining the total fraction of points inside a proposed bounding box.\"\"\"\n",
    "    \n",
    "    # Set x, y, z bounds of the bounding box\n",
    "    x_min = center[1] - bbox[1]/2\n",
    "    x_max = center[1] + bbox[1]/2\n",
    "    y_min = center[2] - bbox[2]/2\n",
    "    y_max = center[2] + bbox[2]/2\n",
    "    z_min = center[3] - bbox[3]/2\n",
    "    z_max = center[3] + bbox[3]/2\n",
    "    \n",
    "    # Keep track of total points inside proposed bounding box and total points\n",
    "    tot_in = 0\n",
    "    tot = 0\n",
    "    \n",
    "    # Iterate through all observed points and determine if each one is inside/outside the proposed bounding box\n",
    "    N = length(point_cloud) ÷ 3\n",
    "    for i in 1:N\n",
    "        point = point_cloud[i,:]\n",
    "        tot += 1\n",
    "        if point[1] >= x_min && point[1] <= x_max && \n",
    "           point[2] >= y_min && point[2] <= y_max &&\n",
    "           point[3] >= z_min && point[3] <= z_max \n",
    "            tot_in += 1\n",
    "        end\n",
    "    end\n",
    "    return tot_in/tot\n",
    "end        "
   ]
  },
  {
   "cell_type": "markdown",
   "metadata": {},
   "source": [
    "### Function for Performing Inference on Synthetic Data\n",
    "We'll define the function below to evaluate the performance of our inference system on synthetically-generated data."
   ]
  },
  {
   "cell_type": "code",
   "execution_count": null,
   "metadata": {},
   "outputs": [],
   "source": [
    "function evaluate_synthetic_data(synthetic_bounding_boxes, synthetic_point_clouds, num_traces)\n",
    "    \"\"\"Evaluate inference results on synthetically-generated data.\"\"\"\n",
    "    i = 1\n",
    "    \n",
    "    # Iterate through synthetically-generated point cloud datasets.\n",
    "    for (bbox, points) in zip(synthetic_bounding_boxes, synthetic_point_clouds)\n",
    "        best_bboxes, best_centers, best_zs, volume_bboxes, points_in, volume_original_bbox = top_five_traces(points, bbox, num_traces)\n",
    "        println(\"ITERATION $i\")\n",
    "        println(\"Best bboxes: $best_bboxes\")\n",
    "        println(\"Best centers: $best_centers\")\n",
    "        println(\"Best zs: $best_zs\")\n",
    "        println(\"Best volume: $volume_bboxes\")\n",
    "        println(\"Points in: $points_in\")\n",
    "        println(\"Volume original bbox: $volume_original_bbox\")\n",
    "        println(\"____________________________________________\")\n",
    "        i += 1\n",
    "    end\n",
    "end"
   ]
  },
  {
   "cell_type": "code",
   "execution_count": null,
   "metadata": {},
   "outputs": [],
   "source": [
    "# Generate ten synthetic bounding boxes\n",
    "pcs, bbox_dimensions = synthetic_bounding_boxes(10, 480, 0.02)\n",
    "evaluate_synthetic_data(bbox_dimensions, pcs, 1000)"
   ]
  },
  {
   "cell_type": "code",
   "execution_count": null,
   "metadata": {},
   "outputs": [],
   "source": [
    "best_bboxes = [(0.747905, 0.743277, 0.68859), (0.786801, 0.756346, 0.804045), (0.82999, 0.796229, 0.742027), (0.753126, 0.858133, 0.774738), (0.705708, 0.810583, 0.807929)]\n",
    "best_centers = [[0.504716, 0.486144, 0.512572], [0.495003, 0.503749, 0.495114], [0.504857, 0.489224, 0.494899], [0.500917, 0.506313, 0.504669], [0.495903, 0.498853, 0.511353]]\n",
    "index = 3\n",
    "bbox2points = box2points(best_bboxes[index], 40, best_centers[index][1], best_centers[index][2], best_centers[index][3])\n",
    "og_point_cloud = pcs[1]\n",
    "plot_data(og_point_cloud, bbox2points)"
   ]
  },
  {
   "cell_type": "markdown",
   "metadata": {},
   "source": [
    "### Perform Inference on A2D2 Dataset\n",
    "Now we're ready to try this out on our A2D2 dataset!"
   ]
  },
  {
   "cell_type": "code",
   "execution_count": null,
   "metadata": {},
   "outputs": [],
   "source": [
    "function evaluate_real_data(bounding_boxes, point_clouds)\n",
    "    \"\"\"Function for performing inference on our A2D2 dataset.\"\"\"\n",
    "    for (bbox, points) in zip(bounding_boxes, point_clouds)\n",
    "        best_bboxes, best_centers, best_zs, volume_bboxes, points_in, volume_original_bbox = top_five_traces(points, bbox)\n",
    "    end\n",
    "end"
   ]
  },
  {
   "cell_type": "code",
   "execution_count": null,
   "metadata": {},
   "outputs": [],
   "source": [
    "path = \"/home/ryansander/Documents/6.885/final_project/a2d2/20180807_145028/\"\n",
    "lidar_paths, bbox_paths = get_files(path)\n",
    "point_clouds = [load_data(lidar_paths[i]) for i in 1:10]\n",
    "bbox_coords = [load_bbox(bbox_paths[i]) for i in 1:10]\n",
    "cropped_pcs = [crop_from_pc(point_clouds[i], bbox_coords[i]) for i in 1:10]\n",
    "println(\"HERE\",cropped_pcs)\n",
    "normalized_bbox_coordinates = [normalize_and_crop(cropped_pcs) for points in cropped_pcs]\n",
    "println([length(normalized_box_points[i]) for i in 1:10])\n",
    "normalized_bounding_boxes = [(0.5, 0.5, 0.5) for i in 1:10];"
   ]
  },
  {
   "cell_type": "code",
   "execution_count": null,
   "metadata": {},
   "outputs": [],
   "source": [
    "evaluate_real_data(normalized_bounding_boxes, normalized_box_points)"
   ]
  }
 ],
 "metadata": {
  "kernelspec": {
   "display_name": "Julia 1.0.4",
   "language": "julia",
   "name": "julia-1.0"
  },
  "language_info": {
   "file_extension": ".jl",
   "mimetype": "application/julia",
   "name": "julia",
   "version": "1.0.4"
  }
 },
 "nbformat": 4,
 "nbformat_minor": 2
}
